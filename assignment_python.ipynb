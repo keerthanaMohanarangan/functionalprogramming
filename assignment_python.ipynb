{
 "cells": [
  {
   "cell_type": "code",
   "execution_count": 1,
   "metadata": {},
   "outputs": [
    {
     "name": "stdout",
     "output_type": "stream",
     "text": [
      "[2, 4, 6, 8, 0, 56, 78]\n",
      "[2, 4, 6, 8, 10, 12, 14, 16, 18, 0, 22, 46, 90, 112, 156]\n",
      "258\n"
     ]
    }
   ],
   "source": [
    "from functools import reduce\n",
    "\n",
    "nums = [1,2,3,4,5,6,7,8,9,0,11,23,45,56,78]\n",
    "\n",
    "evens=list(filter(lambda n:n%2==0,nums)) #\n",
    "doubles=list(map(lambda a:a*2,nums))\n",
    "sum=reduce(lambda a,b:a+b,nums)\n",
    "\n",
    "print(evens)\n",
    "print(doubles)\n",
    "print(sum)"
   ]
  },
  {
   "cell_type": "markdown",
   "metadata": {},
   "source": []
  },
  {
   "cell_type": "markdown",
   "metadata": {},
   "source": [
    "Lambda:Its a anonyms function,its a function without name.The syntax of lambda is lambda arguments: expression it can have many number of arguments but only can have one expression.\n",
    "Filter: Filters the given sequence and tests each element in the sequence is true or not it can be sets,list,tuples\n",
    "Map:Function returns a list of the results after applying the given function \n",
    "Reduce:It reduces the List of numbers and gives us a final result by performing a function.\n",
    "\n",
    "Code Desription:\n",
    "First I am assiging list of numbers , I am performing filter by using lambda function i am checking for the even values and printing the final result in the list format.Next i am performing map function I am performing the multiplication by using the map.Third I am using reduce,reducing the list of numbers into a final value."
   ]
  },
  {
   "cell_type": "code",
   "execution_count": 2,
   "metadata": {},
   "outputs": [
    {
     "name": "stdout",
     "output_type": "stream",
     "text": [
      "3\n"
     ]
    }
   ],
   "source": [
    "from functools import reduce\n",
    "from math import gcd\n",
    "nums=[12, 24, 27, 30, 36]\n",
    "gcd=reduce(lambda a,b:gcd(a,b) ,nums)\n",
    "print(gcd)"
   ]
  },
  {
   "cell_type": "markdown",
   "metadata": {},
   "source": [
    "Here i am finding the gcd for a list of numbers, I am importing reduce from functools and from math I am importing gcd by using reduce i am getting the gcd for the list of numbers."
   ]
  },
  {
   "cell_type": "code",
   "execution_count": 3,
   "metadata": {},
   "outputs": [
    {
     "name": "stdout",
     "output_type": "stream",
     "text": [
      "It has been Sorted\n",
      "[('pet', 'cat'), ('pet', 'dog'), ('pet', 'bull')]\n",
      " \n",
      "[('wildanimal', 'Tiger'), ('wildanimal', 'Lion')]\n",
      " \n"
     ]
    }
   ],
   "source": [
    "from itertools import groupby\n",
    "\n",
    "data=[('pet','cat'), ('pet','dog'), ('wildanimal','Tiger'),('wildanimal','Lion'),('pet','bull')]\n",
    "\n",
    "def ensure_sourted_grouper(func):\n",
    "\n",
    "    def calc(*args,**kwargs):\n",
    "\n",
    "        #print(verify_sorted)\n",
    "        if kwargs['verify_sorted'] == True:\n",
    "            data = sorted(*args, key=lambda n: n[0])\n",
    "            print(\"It has been Sorted\")\n",
    "            func(data, **kwargs)\n",
    "\n",
    "\n",
    "        else:\n",
    "            print(\"You didn’t enforce the order\")\n",
    "    return calc\n",
    "\n",
    "@ensure_sourted_grouper\n",
    "def groupby_demonstrator(data,**verify_sorted):\n",
    "\n",
    "        for k,v in groupby(data,key=lambda k:k[0]):\n",
    "            print(list(v))\n",
    "            print(\" \")\n",
    "\n",
    "#e=ensure_sourted_grouper(groupby_demonstrator)\n",
    "groupby_demonstrator([('pet','cat'), ('pet','dog'), ('wildanimal','Tiger'),('wildanimal','Lion'),('pet','bull')],verify_sorted=True)\n",
    "\n"
   ]
  },
  {
   "cell_type": "markdown",
   "metadata": {},
   "source": [
    "Task 4:\n",
    "Functional Programming:\n",
    "Functional programming is a kind of the declarative programming paradigm where functions represent relations among objects, like in mathematics. Thus, functions are much more than ordinary routines. The main difference between functional programing and other types (e.g. imperative and object oriented programing) is that the functions that are evaluated are the main way of transforming dataThe function package provides access to higher-order functions for data manipulation\n",
    "itertools:\n",
    "Python itertools module is a collection of tools for handling iterators. Simply put, iterators are data types that can be used in a for loop. The most common iterator in Python is the list\n",
    "The operator module exports a set of efficient functions corresponding to the intrinsic operators of Python\n",
    "\n",
    "\n"
   ]
  },
  {
   "cell_type": "code",
   "execution_count": null,
   "metadata": {},
   "outputs": [],
   "source": []
  }
 ],
 "metadata": {
  "kernelspec": {
   "display_name": "Python 3",
   "language": "python",
   "name": "python3"
  },
  "language_info": {
   "codemirror_mode": {
    "name": "ipython",
    "version": 3
   },
   "file_extension": ".py",
   "mimetype": "text/x-python",
   "name": "python",
   "nbconvert_exporter": "python",
   "pygments_lexer": "ipython3",
   "version": "3.7.3"
  },
  "toc": {
   "base_numbering": 1,
   "nav_menu": {},
   "number_sections": true,
   "sideBar": true,
   "skip_h1_title": false,
   "title_cell": "Table of Contents",
   "title_sidebar": "Contents",
   "toc_cell": false,
   "toc_position": {},
   "toc_section_display": true,
   "toc_window_display": false
  },
  "varInspector": {
   "cols": {
    "lenName": 16,
    "lenType": 16,
    "lenVar": 40
   },
   "kernels_config": {
    "python": {
     "delete_cmd_postfix": "",
     "delete_cmd_prefix": "del ",
     "library": "var_list.py",
     "varRefreshCmd": "print(var_dic_list())"
    },
    "r": {
     "delete_cmd_postfix": ") ",
     "delete_cmd_prefix": "rm(",
     "library": "var_list.r",
     "varRefreshCmd": "cat(var_dic_list()) "
    }
   },
   "types_to_exclude": [
    "module",
    "function",
    "builtin_function_or_method",
    "instance",
    "_Feature"
   ],
   "window_display": false
  }
 },
 "nbformat": 4,
 "nbformat_minor": 2
}
